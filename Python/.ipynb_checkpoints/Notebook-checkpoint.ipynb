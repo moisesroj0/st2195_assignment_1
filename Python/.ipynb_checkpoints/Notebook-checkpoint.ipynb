{
 "cells": [
  {
   "cell_type": "markdown",
   "id": "36798bab",
   "metadata": {},
   "source": [
    "# Python Notebook\n",
    "author: \"Moises Rojo\"\n",
    "\n",
    "date: \"2024-02-12\"\n",
    "\n",
    "\n",
    "## Printing Integers\n",
    "The following python script prints all integers between 1 and 10 (including both)\n",
    "\n",
    "## References\n",
    "1. ForLoop - Python Wiki. (n.d.). https://wiki.python.org/moin/ForLoop\n"
   ]
  },
  {
   "cell_type": "code",
   "execution_count": 1,
   "id": "fa3495ce",
   "metadata": {},
   "outputs": [
    {
     "name": "stdout",
     "output_type": "stream",
     "text": [
      "1\n",
      "2\n",
      "3\n",
      "4\n",
      "5\n",
      "6\n",
      "7\n",
      "8\n",
      "9\n",
      "10\n"
     ]
    }
   ],
   "source": [
    "for i in range(1, 11):\n",
    "        print(i)"
   ]
  },
  {
   "cell_type": "code",
   "execution_count": null,
   "id": "26a70b20",
   "metadata": {},
   "outputs": [],
   "source": []
  }
 ],
 "metadata": {
  "kernelspec": {
   "display_name": "Python 3 (ipykernel)",
   "language": "python",
   "name": "python3"
  },
  "language_info": {
   "codemirror_mode": {
    "name": "ipython",
    "version": 3
   },
   "file_extension": ".py",
   "mimetype": "text/x-python",
   "name": "python",
   "nbconvert_exporter": "python",
   "pygments_lexer": "ipython3",
   "version": "3.11.5"
  }
 },
 "nbformat": 4,
 "nbformat_minor": 5
}
